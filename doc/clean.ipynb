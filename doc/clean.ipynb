{
 "cells": [
  {
   "cell_type": "code",
   "execution_count": 20,
   "metadata": {},
   "outputs": [],
   "source": [
    "import numpy as np\n",
    "import scipy.signal as sg\n",
    "import scipy \n",
    "import matplotlib.pyplot as plt\n",
    "from scipy.signal import freqz"
   ]
  },
  {
   "cell_type": "markdown",
   "metadata": {},
   "source": [
    "how to compute the cutoff frequencies\n",
    "\n",
    "consider writing the formula here "
   ]
  },
  {
   "cell_type": "code",
   "execution_count": 39,
   "metadata": {},
   "outputs": [],
   "source": [
    "from scipy.signal import butter\n",
    "def butter_bandpass(lowcut, highcut, fs, order=4):\n",
    "    return butter(order, [lowcut, highcut], fs=fs, btype='band')\n",
    "\n",
    "def butter_bandpass_filter(lowcut, highcut, fs, order=4):\n",
    "    b, a = butter_bandpass(lowcut, highcut, fs, order=order)\n",
    "    return b, a\n"
   ]
  },
  {
   "cell_type": "code",
   "execution_count": 40,
   "metadata": {},
   "outputs": [],
   "source": [
    "# the logic for generating the impulse response\n",
    "def generate_impulse(b, a, Fs):\n",
    "    T, h = scipy.signal.impulse([b, a])\n",
    "    h = h / Fs\n",
    "    return T, h"
   ]
  },
  {
   "cell_type": "code",
   "execution_count": 41,
   "metadata": {},
   "outputs": [],
   "source": [
    "# use functions above to print the coefficients a and b\n",
    "# also, consider visualizing them as well\n",
    "# visualize them like the following\n",
    "# moment in time, and the value for a and b"
   ]
  },
  {
   "cell_type": "code",
   "execution_count": 42,
   "metadata": {},
   "outputs": [],
   "source": [
    "# plot the transfer function\n",
    "def plot_transfer_function(b, a, fs, title=''):\n",
    "    w, h = freqz(b, a, fs=fs, worN=2000)\n",
    "    plt.plot(w, abs(h), label=filter)\n",
    "    plt.axhline(y = 1/np.sqrt(2), color = 'r', linestyle = '-') \n",
    "    plt.axvline(x = 1000, color = 'r', linestyle = '-') \n",
    "\n",
    "    plt.show()\n"
   ]
  },
  {
   "cell_type": "code",
   "execution_count": 43,
   "metadata": {},
   "outputs": [
    {
     "data": {
      "image/png": "[encoded data removed]",
      "text/plain": [
       "<Figure size 432x288 with 1 Axes>"
      ]
     },
     "metadata": {
      "needs_background": "light"
     },
     "output_type": "display_data"
    }
   ],
   "source": [
    "b, a = butter_bandpass_filter(1000, 3000, 8000, 4)\n",
    "plot_transfer_function(b, a, 8000)"
   ]
  }
 ],
 "metadata": {
  "kernelspec": {
   "display_name": "base",
   "language": "python",
   "name": "python3"
  },
  "language_info": {
   "codemirror_mode": {
    "name": "ipython",
    "version": 3
   },
   "file_extension": ".py",
   "mimetype": "text/x-python",
   "name": "python",
   "nbconvert_exporter": "python",
   "pygments_lexer": "ipython3",
   "version": "3.8.8"
  }
 },
 "nbformat": 4,
 "nbformat_minor": 2
}
